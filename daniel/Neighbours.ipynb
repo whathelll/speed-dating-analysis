{
 "cells": [
  {
   "cell_type": "markdown",
   "metadata": {
    "deletable": true,
    "editable": true
   },
   "source": [
    "# Nearest Neighbours"
   ]
  },
  {
   "cell_type": "markdown",
   "metadata": {
    "deletable": true,
    "editable": true
   },
   "source": [
    "#### Here we have a function which allows us to find the nearest neighbours of a person given either their attributes, or their iid number"
   ]
  },
  {
   "cell_type": "code",
   "execution_count": 27,
   "metadata": {
    "collapsed": true,
    "deletable": true,
    "editable": true
   },
   "outputs": [],
   "source": [
    "import pandas as pd\n",
    "import numpy as np\n",
    "import matplotlib.pyplot as plt\n",
    "import seaborn as sns\n",
    "%matplotlib inline"
   ]
  },
  {
   "cell_type": "code",
   "execution_count": 2,
   "metadata": {
    "collapsed": false,
    "deletable": true,
    "editable": true
   },
   "outputs": [
    {
     "data": {
      "text/html": [
       "<div>\n",
       "<table border=\"1\" class=\"dataframe\">\n",
       "  <thead>\n",
       "    <tr style=\"text-align: right;\">\n",
       "      <th></th>\n",
       "      <th>iid</th>\n",
       "      <th>id</th>\n",
       "      <th>gender</th>\n",
       "      <th>idg</th>\n",
       "      <th>condtn</th>\n",
       "      <th>wave</th>\n",
       "      <th>round</th>\n",
       "      <th>position</th>\n",
       "      <th>positin1</th>\n",
       "      <th>order</th>\n",
       "      <th>...</th>\n",
       "      <th>attr3_3</th>\n",
       "      <th>sinc3_3</th>\n",
       "      <th>intel3_3</th>\n",
       "      <th>fun3_3</th>\n",
       "      <th>amb3_3</th>\n",
       "      <th>attr5_3</th>\n",
       "      <th>sinc5_3</th>\n",
       "      <th>intel5_3</th>\n",
       "      <th>fun5_3</th>\n",
       "      <th>amb5_3</th>\n",
       "    </tr>\n",
       "  </thead>\n",
       "  <tbody>\n",
       "    <tr>\n",
       "      <th>0</th>\n",
       "      <td>1</td>\n",
       "      <td>1.0</td>\n",
       "      <td>0</td>\n",
       "      <td>1</td>\n",
       "      <td>1</td>\n",
       "      <td>1</td>\n",
       "      <td>10</td>\n",
       "      <td>7</td>\n",
       "      <td>NaN</td>\n",
       "      <td>4</td>\n",
       "      <td>...</td>\n",
       "      <td>5.0</td>\n",
       "      <td>7.0</td>\n",
       "      <td>7.0</td>\n",
       "      <td>7.0</td>\n",
       "      <td>7.0</td>\n",
       "      <td>NaN</td>\n",
       "      <td>NaN</td>\n",
       "      <td>NaN</td>\n",
       "      <td>NaN</td>\n",
       "      <td>NaN</td>\n",
       "    </tr>\n",
       "    <tr>\n",
       "      <th>1</th>\n",
       "      <td>1</td>\n",
       "      <td>1.0</td>\n",
       "      <td>0</td>\n",
       "      <td>1</td>\n",
       "      <td>1</td>\n",
       "      <td>1</td>\n",
       "      <td>10</td>\n",
       "      <td>7</td>\n",
       "      <td>NaN</td>\n",
       "      <td>3</td>\n",
       "      <td>...</td>\n",
       "      <td>5.0</td>\n",
       "      <td>7.0</td>\n",
       "      <td>7.0</td>\n",
       "      <td>7.0</td>\n",
       "      <td>7.0</td>\n",
       "      <td>NaN</td>\n",
       "      <td>NaN</td>\n",
       "      <td>NaN</td>\n",
       "      <td>NaN</td>\n",
       "      <td>NaN</td>\n",
       "    </tr>\n",
       "    <tr>\n",
       "      <th>2</th>\n",
       "      <td>1</td>\n",
       "      <td>1.0</td>\n",
       "      <td>0</td>\n",
       "      <td>1</td>\n",
       "      <td>1</td>\n",
       "      <td>1</td>\n",
       "      <td>10</td>\n",
       "      <td>7</td>\n",
       "      <td>NaN</td>\n",
       "      <td>10</td>\n",
       "      <td>...</td>\n",
       "      <td>5.0</td>\n",
       "      <td>7.0</td>\n",
       "      <td>7.0</td>\n",
       "      <td>7.0</td>\n",
       "      <td>7.0</td>\n",
       "      <td>NaN</td>\n",
       "      <td>NaN</td>\n",
       "      <td>NaN</td>\n",
       "      <td>NaN</td>\n",
       "      <td>NaN</td>\n",
       "    </tr>\n",
       "    <tr>\n",
       "      <th>3</th>\n",
       "      <td>1</td>\n",
       "      <td>1.0</td>\n",
       "      <td>0</td>\n",
       "      <td>1</td>\n",
       "      <td>1</td>\n",
       "      <td>1</td>\n",
       "      <td>10</td>\n",
       "      <td>7</td>\n",
       "      <td>NaN</td>\n",
       "      <td>5</td>\n",
       "      <td>...</td>\n",
       "      <td>5.0</td>\n",
       "      <td>7.0</td>\n",
       "      <td>7.0</td>\n",
       "      <td>7.0</td>\n",
       "      <td>7.0</td>\n",
       "      <td>NaN</td>\n",
       "      <td>NaN</td>\n",
       "      <td>NaN</td>\n",
       "      <td>NaN</td>\n",
       "      <td>NaN</td>\n",
       "    </tr>\n",
       "    <tr>\n",
       "      <th>4</th>\n",
       "      <td>1</td>\n",
       "      <td>1.0</td>\n",
       "      <td>0</td>\n",
       "      <td>1</td>\n",
       "      <td>1</td>\n",
       "      <td>1</td>\n",
       "      <td>10</td>\n",
       "      <td>7</td>\n",
       "      <td>NaN</td>\n",
       "      <td>7</td>\n",
       "      <td>...</td>\n",
       "      <td>5.0</td>\n",
       "      <td>7.0</td>\n",
       "      <td>7.0</td>\n",
       "      <td>7.0</td>\n",
       "      <td>7.0</td>\n",
       "      <td>NaN</td>\n",
       "      <td>NaN</td>\n",
       "      <td>NaN</td>\n",
       "      <td>NaN</td>\n",
       "      <td>NaN</td>\n",
       "    </tr>\n",
       "  </tbody>\n",
       "</table>\n",
       "<p>5 rows × 195 columns</p>\n",
       "</div>"
      ],
      "text/plain": [
       "   iid   id  gender  idg  condtn  wave  round  position  positin1  order  \\\n",
       "0    1  1.0       0    1       1     1     10         7       NaN      4   \n",
       "1    1  1.0       0    1       1     1     10         7       NaN      3   \n",
       "2    1  1.0       0    1       1     1     10         7       NaN     10   \n",
       "3    1  1.0       0    1       1     1     10         7       NaN      5   \n",
       "4    1  1.0       0    1       1     1     10         7       NaN      7   \n",
       "\n",
       "    ...    attr3_3  sinc3_3  intel3_3  fun3_3  amb3_3  attr5_3  sinc5_3  \\\n",
       "0   ...        5.0      7.0       7.0     7.0     7.0      NaN      NaN   \n",
       "1   ...        5.0      7.0       7.0     7.0     7.0      NaN      NaN   \n",
       "2   ...        5.0      7.0       7.0     7.0     7.0      NaN      NaN   \n",
       "3   ...        5.0      7.0       7.0     7.0     7.0      NaN      NaN   \n",
       "4   ...        5.0      7.0       7.0     7.0     7.0      NaN      NaN   \n",
       "\n",
       "   intel5_3  fun5_3  amb5_3  \n",
       "0       NaN     NaN     NaN  \n",
       "1       NaN     NaN     NaN  \n",
       "2       NaN     NaN     NaN  \n",
       "3       NaN     NaN     NaN  \n",
       "4       NaN     NaN     NaN  \n",
       "\n",
       "[5 rows x 195 columns]"
      ]
     },
     "execution_count": 2,
     "metadata": {},
     "output_type": "execute_result"
    }
   ],
   "source": [
    "df = pd.read_csv('../data/Speed Dating Data.csv')\n",
    "df.head()"
   ]
  },
  {
   "cell_type": "code",
   "execution_count": 3,
   "metadata": {
    "collapsed": true,
    "deletable": true,
    "editable": true
   },
   "outputs": [],
   "source": [
    "# need this to get age in the same format (1-10) as other attributes. \n",
    "# Can also go from 1-10 to original age if direction='backward'\n",
    "def rescale_age(age, direction=\"forward\"):\n",
    "    ser = df['age'] \n",
    "    if direction.lower() == 'forward':\n",
    "        result = (10 - 1) / (ser.max() - ser.min()) * (age - ser.min()) + 1\n",
    "    elif direction.lower() == 'backward':     \n",
    "        result = (age - 1) * (ser.max() - ser.min()) / (10. - 1) + ser.min()\n",
    "    return result"
   ]
  },
  {
   "cell_type": "code",
   "execution_count": 4,
   "metadata": {
    "collapsed": false,
    "deletable": true,
    "editable": true
   },
   "outputs": [
    {
     "name": "stderr",
     "output_type": "stream",
     "text": [
      "c:\\python27\\lib\\site-packages\\ipykernel\\__main__.py:8: SettingWithCopyWarning: \n",
      "A value is trying to be set on a copy of a slice from a DataFrame.\n",
      "Try using .loc[row_indexer,col_indexer] = value instead\n",
      "\n",
      "See the caveats in the documentation: http://pandas.pydata.org/pandas-docs/stable/indexing.html#indexing-view-versus-copy\n"
     ]
    },
    {
     "data": {
      "text/html": [
       "<div>\n",
       "<table border=\"1\" class=\"dataframe\">\n",
       "  <thead>\n",
       "    <tr style=\"text-align: right;\">\n",
       "      <th></th>\n",
       "      <th>iid</th>\n",
       "      <th>age</th>\n",
       "      <th>attr_o</th>\n",
       "      <th>sinc_o</th>\n",
       "      <th>intel_o</th>\n",
       "      <th>fun_o</th>\n",
       "      <th>amb_o</th>\n",
       "      <th>gender</th>\n",
       "    </tr>\n",
       "  </thead>\n",
       "  <tbody>\n",
       "    <tr>\n",
       "      <th>0</th>\n",
       "      <td>1</td>\n",
       "      <td>1.729730</td>\n",
       "      <td>6.7</td>\n",
       "      <td>7.4</td>\n",
       "      <td>8.0</td>\n",
       "      <td>7.2</td>\n",
       "      <td>8.000000</td>\n",
       "      <td>0</td>\n",
       "    </tr>\n",
       "    <tr>\n",
       "      <th>1</th>\n",
       "      <td>2</td>\n",
       "      <td>2.459459</td>\n",
       "      <td>7.7</td>\n",
       "      <td>7.1</td>\n",
       "      <td>7.9</td>\n",
       "      <td>7.5</td>\n",
       "      <td>7.500000</td>\n",
       "      <td>0</td>\n",
       "    </tr>\n",
       "    <tr>\n",
       "      <th>2</th>\n",
       "      <td>3</td>\n",
       "      <td>2.702703</td>\n",
       "      <td>6.5</td>\n",
       "      <td>7.1</td>\n",
       "      <td>7.3</td>\n",
       "      <td>6.2</td>\n",
       "      <td>7.111111</td>\n",
       "      <td>0</td>\n",
       "    </tr>\n",
       "    <tr>\n",
       "      <th>3</th>\n",
       "      <td>4</td>\n",
       "      <td>2.216216</td>\n",
       "      <td>7.0</td>\n",
       "      <td>7.1</td>\n",
       "      <td>7.7</td>\n",
       "      <td>7.5</td>\n",
       "      <td>7.700000</td>\n",
       "      <td>0</td>\n",
       "    </tr>\n",
       "    <tr>\n",
       "      <th>4</th>\n",
       "      <td>5</td>\n",
       "      <td>1.729730</td>\n",
       "      <td>5.3</td>\n",
       "      <td>7.7</td>\n",
       "      <td>7.6</td>\n",
       "      <td>7.2</td>\n",
       "      <td>7.800000</td>\n",
       "      <td>0</td>\n",
       "    </tr>\n",
       "  </tbody>\n",
       "</table>\n",
       "</div>"
      ],
      "text/plain": [
       "   iid       age  attr_o  sinc_o  intel_o  fun_o     amb_o  gender\n",
       "0    1  1.729730     6.7     7.4      8.0    7.2  8.000000       0\n",
       "1    2  2.459459     7.7     7.1      7.9    7.5  7.500000       0\n",
       "2    3  2.702703     6.5     7.1      7.3    6.2  7.111111       0\n",
       "3    4  2.216216     7.0     7.1      7.7    7.5  7.700000       0\n",
       "4    5  1.729730     5.3     7.7      7.6    7.2  7.800000       0"
      ]
     },
     "execution_count": 4,
     "metadata": {},
     "output_type": "execute_result"
    }
   ],
   "source": [
    "# Get a subsetted dataframe grouped by iid\n",
    "cols = ['iid', 'gender']\n",
    "atts = ['age', 'attr_o', 'sinc_o', 'intel_o', 'fun_o', 'amb_o']\n",
    "interests = ['sports','tvsports','exercise','dining','museums','art','hiking',\n",
    "             'gaming','clubbing','reading','tv','theater','movies','concerts','music','shopping','yoga']\n",
    "model_df = df[atts+cols]\n",
    "# rescale age to be between 1 and 10\n",
    "model_df['age'] = rescale_age(model_df['age'])\n",
    "\n",
    "model_df = model_df.dropna(how='all')\n",
    "model_df = model_df.groupby('iid').mean()\n",
    "model_df.reset_index(inplace=True)\n",
    "model_df.head()"
   ]
  },
  {
   "cell_type": "code",
   "execution_count": 5,
   "metadata": {
    "collapsed": true,
    "deletable": true,
    "editable": true
   },
   "outputs": [],
   "source": [
    "# this function takes in a pandas series of attributes OR an iid and returns a new dataframe ordered by the people who are most\n",
    "# similar to a person with those attributes or iid\n",
    "def nearest_neighbours(att_series=pd.Series(), iid_val=None):\n",
    "    if not att_series.empty:\n",
    "        # subsets model_df to a df with only the same sex as in att_series\n",
    "        gender_df = model_df[model_df['gender'] == att_series['gender']]\n",
    "        # rescale age to 1-10\n",
    "        att_series['age'] = rescale_age(att_series['age'])\n",
    "        \n",
    "        sub_att_series = att_series.drop('gender', axis=0)\n",
    "        difference_2Darray = gender_df[atts].values - sub_att_series.values\n",
    "        \n",
    "    elif iid_val:\n",
    "        iid_gender = model_df.loc[model_df['iid'] == iid_val, 'gender']\n",
    "        gender_df = model_df[model_df['gender'] == iid_gender]\n",
    "        \n",
    "        difference_2Darray = (gender_df[atts].values - model_df[model_df['iid'] == iid_val][atts].values)\n",
    "    else:\n",
    "        print \"You didn't enter an iid value OR an attribute series\"\n",
    "        \n",
    "    distance_1Darray = np.sum(np.square(difference_2Darray), axis=1)\n",
    "\n",
    "    df2=gender_df.copy()\n",
    "    df2['dist'] = distance_1Darray\n",
    "    df2['age'] = rescale_age(df2['age'], 'backward')\n",
    "    df2.sort_values('dist', inplace=True)\n",
    "    return df2"
   ]
  },
  {
   "cell_type": "code",
   "execution_count": 17,
   "metadata": {
    "collapsed": false,
    "deletable": true,
    "editable": true
   },
   "outputs": [
    {
     "data": {
      "text/html": [
       "<div>\n",
       "<table border=\"1\" class=\"dataframe\">\n",
       "  <thead>\n",
       "    <tr style=\"text-align: right;\">\n",
       "      <th></th>\n",
       "      <th>iid</th>\n",
       "      <th>age</th>\n",
       "      <th>attr_o</th>\n",
       "      <th>sinc_o</th>\n",
       "      <th>intel_o</th>\n",
       "      <th>fun_o</th>\n",
       "      <th>amb_o</th>\n",
       "      <th>gender</th>\n",
       "      <th>dist</th>\n",
       "    </tr>\n",
       "  </thead>\n",
       "  <tbody>\n",
       "    <tr>\n",
       "      <th>288</th>\n",
       "      <td>290</td>\n",
       "      <td>34.0</td>\n",
       "      <td>6.571429</td>\n",
       "      <td>6.333333</td>\n",
       "      <td>7.523810</td>\n",
       "      <td>5.380952</td>\n",
       "      <td>6.380952</td>\n",
       "      <td>1</td>\n",
       "      <td>0.823479</td>\n",
       "    </tr>\n",
       "    <tr>\n",
       "      <th>506</th>\n",
       "      <td>508</td>\n",
       "      <td>36.0</td>\n",
       "      <td>5.833333</td>\n",
       "      <td>5.666667</td>\n",
       "      <td>6.833333</td>\n",
       "      <td>5.333333</td>\n",
       "      <td>6.500000</td>\n",
       "      <td>1</td>\n",
       "      <td>3.337615</td>\n",
       "    </tr>\n",
       "    <tr>\n",
       "      <th>546</th>\n",
       "      <td>548</td>\n",
       "      <td>30.0</td>\n",
       "      <td>6.857143</td>\n",
       "      <td>5.809524</td>\n",
       "      <td>6.666667</td>\n",
       "      <td>5.714286</td>\n",
       "      <td>6.150000</td>\n",
       "      <td>1</td>\n",
       "      <td>3.535908</td>\n",
       "    </tr>\n",
       "    <tr>\n",
       "      <th>545</th>\n",
       "      <td>547</td>\n",
       "      <td>30.0</td>\n",
       "      <td>6.318182</td>\n",
       "      <td>6.181818</td>\n",
       "      <td>7.045455</td>\n",
       "      <td>6.045455</td>\n",
       "      <td>6.272727</td>\n",
       "      <td>1</td>\n",
       "      <td>3.745183</td>\n",
       "    </tr>\n",
       "    <tr>\n",
       "      <th>163</th>\n",
       "      <td>165</td>\n",
       "      <td>30.0</td>\n",
       "      <td>7.375000</td>\n",
       "      <td>7.062500</td>\n",
       "      <td>6.812500</td>\n",
       "      <td>5.600000</td>\n",
       "      <td>5.785714</td>\n",
       "      <td>1</td>\n",
       "      <td>4.254342</td>\n",
       "    </tr>\n",
       "  </tbody>\n",
       "</table>\n",
       "</div>"
      ],
      "text/plain": [
       "     iid   age    attr_o    sinc_o   intel_o     fun_o     amb_o  gender  \\\n",
       "288  290  34.0  6.571429  6.333333  7.523810  5.380952  6.380952       1   \n",
       "506  508  36.0  5.833333  5.666667  6.833333  5.333333  6.500000       1   \n",
       "546  548  30.0  6.857143  5.809524  6.666667  5.714286  6.150000       1   \n",
       "545  547  30.0  6.318182  6.181818  7.045455  6.045455  6.272727       1   \n",
       "163  165  30.0  7.375000  7.062500  6.812500  5.600000  5.785714       1   \n",
       "\n",
       "         dist  \n",
       "288  0.823479  \n",
       "506  3.337615  \n",
       "546  3.535908  \n",
       "545  3.745183  \n",
       "163  4.254342  "
      ]
     },
     "execution_count": 17,
     "metadata": {},
     "output_type": "execute_result"
    }
   ],
   "source": [
    "# Just change these Series values if you want to play around\n",
    "my_atts = pd.Series([1, 36, 7, 6, 8, 5, 6], index=['gender', 'age', 'attr', 'sinc', 'intel', 'fun', 'amb'])\n",
    "# my_iid = 10\n",
    "\n",
    "nearest_neighbours(att_series=my_atts).head()"
   ]
  },
  {
   "cell_type": "code",
   "execution_count": 18,
   "metadata": {
    "collapsed": false,
    "deletable": true,
    "editable": true
   },
   "outputs": [
    {
     "name": "stdout",
     "output_type": "stream",
     "text": [
      "[275 123]\n"
     ]
    }
   ],
   "source": [
    "neighbour_ids = nearest_neighbours(att_series=my_atts).head(2)['iid'].values\n",
    "print neighbour_ids"
   ]
  },
  {
   "cell_type": "code",
   "execution_count": 19,
   "metadata": {
    "collapsed": false,
    "deletable": true,
    "editable": true
   },
   "outputs": [],
   "source": [
    "# Now if you want to find more information about the person of a particular iid, just search in the original df:\n",
    "dopple_df = df[df['iid'].isin(neighbour_ids)][['iid', 'pid', 'dec_o', 'attr_o', 'sinc_o', 'intel_o', 'fun_o', 'amb_o']]"
   ]
  },
  {
   "cell_type": "code",
   "execution_count": 20,
   "metadata": {
    "collapsed": false,
    "deletable": true,
    "editable": true
   },
   "outputs": [
    {
     "data": {
      "text/plain": [
       "array([ 114.,  116.,  119.,  121.,  261.])"
      ]
     },
     "execution_count": 20,
     "metadata": {},
     "output_type": "execute_result"
    }
   ],
   "source": [
    "# get the people that said yes to the neighbours\n",
    "id_list = dopple_df[dopple_df['dec_o'] == 1]['pid'].values\n",
    "# dopple_df[dopple_df['dec_o'] == 1]\n",
    "id_list"
   ]
  },
  {
   "cell_type": "code",
   "execution_count": 21,
   "metadata": {
    "collapsed": false,
    "deletable": true,
    "editable": true
   },
   "outputs": [
    {
     "data": {
      "text/plain": [
       "iid         275.430210\n",
       "gender        0.000000\n",
       "age          26.105851\n",
       "attr_o        6.461401\n",
       "sinc_o        7.251053\n",
       "intel_o       7.291202\n",
       "fun_o         6.520164\n",
       "amb_o         6.604591\n",
       "sports        5.813333\n",
       "tvsports      4.162424\n",
       "exercise      6.450909\n",
       "dining        8.147152\n",
       "museums       7.428364\n",
       "art           7.219636\n",
       "hiking        5.942061\n",
       "gaming        3.302303\n",
       "clubbing      5.899879\n",
       "reading       7.907152\n",
       "tv            5.739394\n",
       "theater       7.481939\n",
       "movies        8.198061\n",
       "concerts      7.103758\n",
       "music         7.989576\n",
       "shopping      6.499152\n",
       "yoga          4.989818\n",
       "dtype: float64"
      ]
     },
     "execution_count": 21,
     "metadata": {},
     "output_type": "execute_result"
    }
   ],
   "source": [
    "# Find the mean of each attribute/interest for a whole gender\n",
    "mean_df = df[cols+atts+interests][df['gender']==0].mean()\n",
    "mean_df"
   ]
  },
  {
   "cell_type": "code",
   "execution_count": 22,
   "metadata": {
    "collapsed": false,
    "deletable": true,
    "editable": true
   },
   "outputs": [
    {
     "data": {
      "text/plain": [
       "age        -4.705851\n",
       "amb_o      -0.533947\n",
       "art         0.780364\n",
       "attr_o     -0.524258\n",
       "clubbing    1.900121\n",
       "concerts    1.896242\n",
       "dining      0.252848\n",
       "exercise   -1.850909\n",
       "fun_o      -0.730164\n",
       "gaming      1.297697\n",
       "gender      0.000000\n",
       "hiking     -0.942061\n",
       "iid              NaN\n",
       "intel_o    -0.293107\n",
       "movies      0.801939\n",
       "museums     0.171636\n",
       "music       1.610424\n",
       "reading     0.692848\n",
       "shopping    0.100848\n",
       "sinc_o     -0.445497\n",
       "sports     -0.413333\n",
       "theater     1.518061\n",
       "tv          0.660606\n",
       "tvsports    0.437576\n",
       "yoga        0.610182\n",
       "dtype: float64"
      ]
     },
     "execution_count": 22,
     "metadata": {},
     "output_type": "execute_result"
    }
   ],
   "source": [
    "# Get the mean of the attributes/interests of all the people that said yes to ALL of our nearest neighbours\n",
    "person_df = df[cols+atts+interests][df['iid'].isin(id_list)]\n",
    "person_means = person_df.groupby('iid').mean()\n",
    "# Compare with the mean_df above\n",
    "difference_ser = person_means.mean() - mean_df\n",
    "# print info_list.append(person_df.mean())\n",
    "difference_ser"
   ]
  },
  {
   "cell_type": "code",
   "execution_count": 32,
   "metadata": {
    "collapsed": false
   },
   "outputs": [
    {
     "data": {
      "text/plain": [
       "[<matplotlib.text.Text at 0x14d9cc10>,\n",
       " <matplotlib.text.Text at 0x14f44d50>,\n",
       " <matplotlib.text.Text at 0x150edc10>,\n",
       " <matplotlib.text.Text at 0x150edfb0>,\n",
       " <matplotlib.text.Text at 0x150f9370>,\n",
       " <matplotlib.text.Text at 0x150f9710>,\n",
       " <matplotlib.text.Text at 0x150f9ab0>,\n",
       " <matplotlib.text.Text at 0x150f9e50>,\n",
       " <matplotlib.text.Text at 0x15103210>,\n",
       " <matplotlib.text.Text at 0x151035b0>,\n",
       " <matplotlib.text.Text at 0x15103950>,\n",
       " <matplotlib.text.Text at 0x15103cf0>,\n",
       " <matplotlib.text.Text at 0x1510d0b0>,\n",
       " <matplotlib.text.Text at 0x1510d450>,\n",
       " <matplotlib.text.Text at 0x1510d7f0>,\n",
       " <matplotlib.text.Text at 0x1510db90>,\n",
       " <matplotlib.text.Text at 0x1510df30>,\n",
       " <matplotlib.text.Text at 0x1515b2f0>,\n",
       " <matplotlib.text.Text at 0x1515b690>,\n",
       " <matplotlib.text.Text at 0x1515ba30>,\n",
       " <matplotlib.text.Text at 0x1515bdd0>,\n",
       " <matplotlib.text.Text at 0x15165190>,\n",
       " <matplotlib.text.Text at 0x15165530>,\n",
       " <matplotlib.text.Text at 0x151658d0>]"
      ]
     },
     "execution_count": 32,
     "metadata": {},
     "output_type": "execute_result"
    },
    {
     "data": {
      "image/png": "[encoded data removed]",
      "text/plain": [
       "<matplotlib.figure.Figure at 0x14ecf9f0>"
      ]
     },
     "metadata": {},
     "output_type": "display_data"
    }
   ],
   "source": [
    "x = person_means.mean().index\n",
    "y = person_means.mean().values\n",
    "ax = sns.barplot(x, y)\n",
    "ax.set_xticklabels(labels=x, rotation=90)"
   ]
  },
  {
   "cell_type": "code",
   "execution_count": null,
   "metadata": {
    "collapsed": true
   },
   "outputs": [],
   "source": []
  },
  {
   "cell_type": "code",
   "execution_count": 23,
   "metadata": {
    "collapsed": false,
    "deletable": true,
    "editable": true
   },
   "outputs": [
    {
     "data": {
      "text/plain": [
       "<matplotlib.text.Text at 0x97ef750>"
      ]
     },
     "execution_count": 23,
     "metadata": {},
     "output_type": "execute_result"
    },
    {
     "data": {
      "image/png": "[encoded data removed]",
      "text/plain": [
       "<matplotlib.figure.Figure at 0x9db2890>"
      ]
     },
     "metadata": {},
     "output_type": "display_data"
    }
   ],
   "source": [
    "ax = difference_ser.plot(kind='bar', figsize=(13,8), title='Who do you attract?')\n",
    "ax.set_ylabel('Difference between people who like you and gender mean')"
   ]
  },
  {
   "cell_type": "code",
   "execution_count": 13,
   "metadata": {
    "collapsed": false,
    "deletable": true,
    "editable": true
   },
   "outputs": [
    {
     "data": {
      "text/plain": [
       "<matplotlib.axes._subplots.AxesSubplot at 0xc29f750>"
      ]
     },
     "execution_count": 13,
     "metadata": {},
     "output_type": "execute_result"
    },
    {
     "data": {
      "image/png": "[encoded data removed]",
      "text/plain": [
       "<matplotlib.figure.Figure at 0xc2aa0d0>"
      ]
     },
     "metadata": {},
     "output_type": "display_data"
    }
   ],
   "source": [
    "# As a side, let's look at the number of yeses per age\n",
    "#MEN:\n",
    "\n",
    "age_yes_df = df[['gender','age_o', 'dec_o']][df['gender']==0]\n",
    "age_yes_df = age_yes_df[['age_o', 'dec_o']].groupby('age_o').mean()\n",
    "age_yes_df.plot(kind='bar')"
   ]
  },
  {
   "cell_type": "code",
   "execution_count": 14,
   "metadata": {
    "collapsed": false,
    "deletable": true,
    "editable": true
   },
   "outputs": [
    {
     "data": {
      "text/plain": [
       "<matplotlib.axes._subplots.AxesSubplot at 0xbc8f970>"
      ]
     },
     "execution_count": 14,
     "metadata": {},
     "output_type": "execute_result"
    },
    {
     "data": {
      "image/png": "[encoded data removed]",
      "text/plain": [
       "<matplotlib.figure.Figure at 0xbc7d870>"
      ]
     },
     "metadata": {},
     "output_type": "display_data"
    }
   ],
   "source": [
    "#WOMEN:\n",
    "\n",
    "age_yes_df = df[['gender','age_o', 'dec_o']][df['gender']==1]\n",
    "age_yes_df = age_yes_df[['age_o', 'dec_o']].groupby('age_o').mean()\n",
    "age_yes_df.plot(kind='bar')"
   ]
  },
  {
   "cell_type": "code",
   "execution_count": null,
   "metadata": {
    "collapsed": true,
    "deletable": true,
    "editable": true
   },
   "outputs": [],
   "source": []
  },
  {
   "cell_type": "code",
   "execution_count": null,
   "metadata": {
    "collapsed": true,
    "deletable": true,
    "editable": true
   },
   "outputs": [],
   "source": []
  }
 ],
 "metadata": {
  "kernelspec": {
   "display_name": "Python 2",
   "language": "python",
   "name": "python2"
  },
  "language_info": {
   "codemirror_mode": {
    "name": "ipython",
    "version": 2
   },
   "file_extension": ".py",
   "mimetype": "text/x-python",
   "name": "python",
   "nbconvert_exporter": "python",
   "pygments_lexer": "ipython2",
   "version": "2.7.13"
  }
 },
 "nbformat": 4,
 "nbformat_minor": 2
}
